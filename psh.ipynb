{
 "cells": [
  {
   "cell_type": "code",
   "execution_count": 3,
   "metadata": {},
   "outputs": [],
   "source": [
    "import docplex\n",
    "from docplex.mp.model import Model\n",
    "import pandas as pd\n",
    "import numpy as np\n",
    "import matplotlib.pyplot as plt"
   ]
  },
  {
   "cell_type": "code",
   "execution_count": 4,
   "metadata": {},
   "outputs": [],
   "source": [
    "model = Model(name=\"psh\")"
   ]
  },
  {
   "cell_type": "code",
   "execution_count": 32,
   "metadata": {},
   "outputs": [],
   "source": [
    "# Indices\n",
    "cascaded_reservoirs = np.arange(2)\n",
    "upstream_reservoirs = {\n",
    "    0: [],\n",
    "    1: [0]\n",
    "}\n",
    "pumped_storage_reservoirs = np.arange(1)\n",
    "hydro_units = {\n",
    "    0: np.arange(2),\n",
    "    1: np.arange(2)\n",
    "}\n",
    "pumped_storage_units = {\n",
    "    0: np.arange(2)\n",
    "}\n",
    "periods = np.arange(10)\n",
    "vertices = np.arange(3)\n",
    "\n",
    "# Parameters\n",
    "projected_prices = [10, 20, 15, 15, 15, 10, 10, 10, 5, 25]\n",
    "period_length = 2\n",
    "natural_inflow = np.ones(shape=(1,10)) * 2\n",
    "travel_times = pd.DataFrame(data=[[0,1],[1,0]], index=cascaded_reservoirs, columns=cascaded_reservoirs)\n",
    "spillage = pd.DataFrame(data=np.ones(shape=(2,10)), index=cascaded_reservoirs, columns=periods)\n",
    "\n",
    "# Limits\n",
    "v_min = 10\n",
    "v_max = 20\n",
    "v_min_p = 5\n",
    "v_max_p = 10\n",
    "\n",
    "p_min_g = 2\n",
    "p_max_g = 8\n",
    "p_min_p = 1\n",
    "p_max_p = 4\n",
    "\n",
    "q_min_g = 2\n",
    "q_max_g = 6\n",
    "q_min_p = 1\n",
    "q_max_p = 4"
   ]
  },
  {
   "cell_type": "code",
   "execution_count": 24,
   "metadata": {},
   "outputs": [],
   "source": [
    "def production_function(effi, water_head, water_discharge):\n",
    "    result = 981 * 0.001 * effi * water_head * water_discharge\n",
    "    return result"
   ]
  },
  {
   "cell_type": "code",
   "execution_count": 26,
   "metadata": {},
   "outputs": [
    {
     "data": {
      "text/plain": [
       "96.13799999999999"
      ]
     },
     "execution_count": 26,
     "metadata": {},
     "output_type": "execute_result"
    }
   ],
   "source": []
  },
  {
   "cell_type": "code",
   "execution_count": 87,
   "metadata": {},
   "outputs": [],
   "source": [
    "subregions = np.arange(10)\n",
    "max_head = 10\n",
    "min_head = 4\n",
    "max_discharge = 30\n",
    "min_discharge = 15\n",
    "efficieny = 0.98\n",
    "\n",
    "head_interval = (max_head - min_head) / (len(subregions) / 2)\n",
    "discharge_interval = (max_discharge - min_discharge) / len(subregions)\n",
    "\n",
    "h_vertices = np.zeros((2,2,10,3))\n",
    "q_vertices = np.zeros((2,2,10,3))\n",
    "\n",
    "# head vertices\n",
    "for i in cascaded_reservoirs:\n",
    "    for j in hydro_units[i]:\n",
    "        for l in subregions:\n",
    "            if l % 2 == 0:\n",
    "                h_vertices[i,j,l,0] = min_head + l / 2 * head_interval # bottom left\n",
    "                h_vertices[i,j,l,1] = min_head + l / 2 * head_interval + head_interval # bottom right\n",
    "                h_vertices[i,j,l,2] = h_vertices[i,j,l,0] # top left\n",
    "\n",
    "                h_vertices[i,j,l+1,0] = h_vertices[i,j,l,0] # top left\n",
    "                h_vertices[i,j,l+1,1] = h_vertices[i,j,l,1]# top right\n",
    "                h_vertices[i,j,l+1,2] = h_vertices[i,j,l,1] # bottom right\n",
    "\n",
    "# discharge vertices\n",
    "for i in cascaded_reservoirs:\n",
    "    for j in hydro_units[i]:\n",
    "        for l in subregions:\n",
    "            if l % 2 == 0:\n",
    "                q_vertices[i,j,l,0] = min_discharge # bottom left\n",
    "                q_vertices[i,j,l,1] = min_discharge # bottom right\n",
    "                q_vertices[i,j,l,2] = max_discharge # top left\n",
    "\n",
    "                q_vertices[i,j,l+1,0] = max_discharge # top left\n",
    "                q_vertices[i,j,l+1,1] = max_discharge # top right\n",
    "                q_vertices[i,j,l+1,2] = min_discharge # bottom right"
   ]
  },
  {
   "cell_type": "code",
   "execution_count": 92,
   "metadata": {},
   "outputs": [
    {
     "data": {
      "text/plain": [
       "array([[[[ 57.6828 ,  74.98764, 115.3656 ],\n",
       "         [115.3656 , 149.97528,  74.98764],\n",
       "         [ 74.98764,  92.29248, 149.97528],\n",
       "         [149.97528, 184.58496,  92.29248],\n",
       "         [ 92.29248, 109.59732, 184.58496],\n",
       "         [184.58496, 219.19464, 109.59732],\n",
       "         [109.59732, 126.90216, 219.19464],\n",
       "         [219.19464, 253.80432, 126.90216],\n",
       "         [126.90216, 144.207  , 253.80432],\n",
       "         [253.80432, 288.414  , 144.207  ]],\n",
       "\n",
       "        [[ 57.6828 ,  74.98764, 115.3656 ],\n",
       "         [115.3656 , 149.97528,  74.98764],\n",
       "         [ 74.98764,  92.29248, 149.97528],\n",
       "         [149.97528, 184.58496,  92.29248],\n",
       "         [ 92.29248, 109.59732, 184.58496],\n",
       "         [184.58496, 219.19464, 109.59732],\n",
       "         [109.59732, 126.90216, 219.19464],\n",
       "         [219.19464, 253.80432, 126.90216],\n",
       "         [126.90216, 144.207  , 253.80432],\n",
       "         [253.80432, 288.414  , 144.207  ]]],\n",
       "\n",
       "\n",
       "       [[[ 57.6828 ,  74.98764, 115.3656 ],\n",
       "         [115.3656 , 149.97528,  74.98764],\n",
       "         [ 74.98764,  92.29248, 149.97528],\n",
       "         [149.97528, 184.58496,  92.29248],\n",
       "         [ 92.29248, 109.59732, 184.58496],\n",
       "         [184.58496, 219.19464, 109.59732],\n",
       "         [109.59732, 126.90216, 219.19464],\n",
       "         [219.19464, 253.80432, 126.90216],\n",
       "         [126.90216, 144.207  , 253.80432],\n",
       "         [253.80432, 288.414  , 144.207  ]],\n",
       "\n",
       "        [[ 57.6828 ,  74.98764, 115.3656 ],\n",
       "         [115.3656 , 149.97528,  74.98764],\n",
       "         [ 74.98764,  92.29248, 149.97528],\n",
       "         [149.97528, 184.58496,  92.29248],\n",
       "         [ 92.29248, 109.59732, 184.58496],\n",
       "         [184.58496, 219.19464, 109.59732],\n",
       "         [109.59732, 126.90216, 219.19464],\n",
       "         [219.19464, 253.80432, 126.90216],\n",
       "         [126.90216, 144.207  , 253.80432],\n",
       "         [253.80432, 288.414  , 144.207  ]]]])"
      ]
     },
     "execution_count": 92,
     "metadata": {},
     "output_type": "execute_result"
    }
   ],
   "source": [
    "power_vertices = np.zeros((2,2,10,3))\n",
    "\n",
    "for i in cascaded_reservoirs:\n",
    "    for j in hydro_units[i]:\n",
    "        for l in subregions:\n",
    "            for r in vertices:\n",
    "                power_vertices[i,j,l,r] = production_function(efficieny, h_vertices[i,j,l,r], q_vertices[i,j,l,r])\n"
   ]
  },
  {
   "cell_type": "code",
   "execution_count": 99,
   "metadata": {},
   "outputs": [
    {
     "data": {
      "image/png": "[encoded data removed]",
      "text/plain": [
       "<Figure size 640x480 with 1 Axes>"
      ]
     },
     "metadata": {},
     "output_type": "display_data"
    }
   ],
   "source": [
    "fig, ax = plt.subplots()\n",
    "for i in cascaded_reservoirs:\n",
    "    for j in hydro_units[i]:\n",
    "        for l in subregions:\n",
    "            ax.plot([h_vertices[i,j,l,0], h_vertices[i,j,l,1]], [q_vertices[i,j,l,0], q_vertices[i,j,l,1]], color='black')\n",
    "            ax.plot([h_vertices[i,j,l,1], h_vertices[i,j,l,2]], [q_vertices[i,j,l,1], q_vertices[i,j,l,2]], color='black')\n",
    "            ax.plot([h_vertices[i,j,l,2], h_vertices[i,j,l,0]], [q_vertices[i,j,l,2], q_vertices[i,j,l,0]], color='black')\n",
    "\n",
    "            plt.annotate(round(power_vertices[i,j,l,0],0), xy=(h_vertices[i,j,l,0], q_vertices[i,j,l,0]), xytext=(h_vertices[i,j,l,0], q_vertices[i,j,l,0]-1))\n",
    "            plt.annotate(round(power_vertices[i,j,l,1],0), xy=(h_vertices[i,j,l,1], q_vertices[i,j,l,1]), xytext=(h_vertices[i,j,l,1], q_vertices[i,j,l,1]+1))\n",
    "            plt.annotate(round(power_vertices[i,j,l,2],0), xy=(h_vertices[i,j,l,2], q_vertices[i,j,l,2]), xytext=(h_vertices[i,j,l,2], q_vertices[i,j,l,2]))"
   ]
  }
 ],
 "metadata": {
  "kernelspec": {
   "display_name": "Python 3",
   "language": "python",
   "name": "python3"
  },
  "language_info": {
   "codemirror_mode": {
    "name": "ipython",
    "version": 3
   },
   "file_extension": ".py",
   "mimetype": "text/x-python",
   "name": "python",
   "nbconvert_exporter": "python",
   "pygments_lexer": "ipython3",
   "version": "3.10.0"
  }
 },
 "nbformat": 4,
 "nbformat_minor": 2
}
