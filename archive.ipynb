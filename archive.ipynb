{
 "cells": [
  {
   "cell_type": "code",
   "execution_count": null,
   "metadata": {},
   "outputs": [],
   "source": [
    "# Defining head, discharge and power values for the vertices\n",
    "psh.head_discharge_limits = pd.DataFrame(columns=psh.hydro_units, index=['max', 'min'])\n",
    "psh.limhead_discharge_limitsits.loc['max', 'head'] = 10\n",
    "psh.head_discharge_limits.loc['min', 'head'] = 4\n",
    "psh.head_discharge_limits.loc['max', 'discharge'] = 30\n",
    "psh.head_discharge_limits.loc['min', 'discharge'] = 15\n",
    "\n",
    "efficieny = 0.98\n",
    "\n",
    "head_interval = (psh.max_head - psh.min_head) / (len(psh.subregions) / 2)\n",
    "discharge_interval = (psh.max_discharge - psh.min_discharge) / len(psh.subregions)\n",
    "\n",
    "h_vertices = np.zeros((2,2,10,3))\n",
    "q_vertices = np.zeros((2,2,10,3))\n",
    "\n",
    "# head vertices\n",
    "for i in cascaded_reservoirs:\n",
    "    for j in hydro_units[i]:\n",
    "        for l in subregions:\n",
    "            if l % 2 == 0:\n",
    "                h_vertices[i,j,l,0] = min_head + l / 2 * head_interval # bottom left\n",
    "                h_vertices[i,j,l,1] = min_head + l / 2 * head_interval + head_interval # bottom right\n",
    "                h_vertices[i,j,l,2] = h_vertices[i,j,l,0] # top left\n",
    "\n",
    "                h_vertices[i,j,l+1,0] = h_vertices[i,j,l,0] # top left\n",
    "                h_vertices[i,j,l+1,1] = h_vertices[i,j,l,1]# top right\n",
    "                h_vertices[i,j,l+1,2] = h_vertices[i,j,l,1] # bottom right\n",
    "\n",
    "# discharge vertices\n",
    "for i in cascaded_reservoirs:\n",
    "    for j in hydro_units[i]:\n",
    "        for l in subregions:\n",
    "            if l % 2 == 0:\n",
    "                q_vertices[i,j,l,0] = min_discharge # bottom left\n",
    "                q_vertices[i,j,l,1] = min_discharge # bottom right\n",
    "                q_vertices[i,j,l,2] = max_discharge # top left\n",
    "\n",
    "                q_vertices[i,j,l+1,0] = max_discharge # top left\n",
    "                q_vertices[i,j,l+1,1] = max_discharge # top right\n",
    "                q_vertices[i,j,l+1,2] = min_discharge # bottom right"
   ]
  },
  {
   "cell_type": "code",
   "execution_count": null,
   "metadata": {},
   "outputs": [],
   "source": [
    "power_vertices = np.zeros((2,2,10,3))\n",
    "\n",
    "for i in cascaded_reservoirs:\n",
    "    for j in hydro_units[i]:\n",
    "        for l in subregions:\n",
    "            for r in vertices:\n",
    "                power_vertices[i,j,l,r] = production_function(efficieny, h_vertices[i,j,l,r], q_vertices[i,j,l,r])"
   ]
  },
  {
   "cell_type": "code",
   "execution_count": null,
   "metadata": {},
   "outputs": [],
   "source": [
    "psh.clear()\n",
    "volume = psh.continuous_var_matrix(psh.reservoirs, psh.periods, name='reservoir_volume')\n",
    "total_discharge = psh.continuous_var_matrix(psh.reservoirs, psh.periods, name='total_discharge_ex_ps')\n",
    "hu_discharge = psh.continuous_var_cube(psh.reservoirs, psh.hydro_units, psh.periods, name='discharge_hydro_units')\n",
    "hu_head = psh.continuous_var_cube(psh.reservoirs, psh.hydro_units, psh.periods, name='head_hydro_units')\n",
    "hu_power = psh.continuous_var_cube(psh.reservoirs, psh.hydro_units, psh.periods, name='power_output_hydro_units')\n",
    "active_subregion = psh.binary_var_dict([(i, j, t, l) for i in psh.reservoirs for j in psh.hydro_units for t in psh.periods for l in psh.subregions], name='active_subregions')\n",
    "alpha_coefficient = psh.continuous_var_dict([(i, j, t, l, r) for i in psh.reservoirs for j in psh.hydro_units for t in psh.periods for l in psh.subregions for r in psh.vertices], name='convex_combination_coefficients')\n",
    "hu_start_up = psh.binary_var_cube(psh.reservoirs, psh.hydro_units, psh.periods, name='start_ups_hydro_units')\n",
    "hu_shut_down = psh.binary_var_cube(psh.reservoirs, psh.hydro_units, psh.periods, name='shut_downs_hydro_units')\n",
    "hu_state = psh.binary_var_cube(psh.reservoirs, psh.hydro_units, psh.periods, name='state_hydro_units')\n",
    "ps_power = psh.continuous_var_cube(psh.reservoirs, psh.pumped_storage_units, psh.periods, name='total_power_output_pumped_storage_units')\n",
    "ps_discharge = psh.continuous_var_cube(psh.reservoirs, psh.pumped_storage_units, psh.periods, name='total_discharge_pumped_storage_units')\n",
    "ps_power_gen = psh.continuous_var_cube(psh.reservoirs, psh.pumped_storage_units, psh.periods, name='power_output_pumped_storage_units')\n",
    "ps_power_pump = psh.continuous_var_cube(psh.reservoirs, psh.pumped_storage_units, psh.periods, name='power_consumption_pumped_storage_units')\n",
    "ps_discharge_gen = psh.continuous_var_cube(psh.reservoirs, psh.pumped_storage_units, psh.periods, name='discharge_pumped_storage_units')\n",
    "ps_discharge_pump = psh.continuous_var_cube(psh.reservoirs, psh.pumped_storage_units, psh.periods, name='pumped_upstream_pumped_storage_units')\n",
    "ps_state_gen = psh.binary_var_cube(psh.reservoirs, psh.pumped_storage_units, psh.periods, name='generation_state_pumped_storage_units')\n",
    "ps_state_pump = psh.binary_var_cube(psh.reservoirs, psh.pumped_storage_units, psh.periods, name='pumping_state_pumped_storage_units')"
   ]
  }
 ],
 "metadata": {
  "language_info": {
   "name": "python"
  }
 },
 "nbformat": 4,
 "nbformat_minor": 2
}
